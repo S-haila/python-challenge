{
 "cells": [
  {
   "cell_type": "code",
   "execution_count": 1,
   "metadata": {},
   "outputs": [],
   "source": [
    "#import dependencies\n",
    "import os\n",
    "import csv"
   ]
  },
  {
   "cell_type": "code",
   "execution_count": 4,
   "metadata": {},
   "outputs": [],
   "source": [
    "# Path to the CSV file\n",
    "file_path = r\"C:\\Users\\sohai\\OneDrive\\Desktop\\bootcamp_hw\\python-challenge\\PyBank\\Resources\\budget_data.csv\"\n"
   ]
  },
  {
   "cell_type": "code",
   "execution_count": 5,
   "metadata": {},
   "outputs": [],
   "source": [
    "# Initialize variables to store financial analysis\n",
    "total_months = 0\n",
    "total_profit_loss = 0\n",
    "previous_profit_loss = 0\n",
    "profit_loss_change = 0\n",
    "profit_loss_changes = []\n",
    "greatest_increase = {\"date\": \"\", \"amount\": 0}\n",
    "greatest_decrease = {\"date\": \"\", \"amount\": 0}"
   ]
  },
  {
   "cell_type": "code",
   "execution_count": 6,
   "metadata": {},
   "outputs": [],
   "source": [
    "# Read the CSV file\n",
    "with open(file_path, newline=\"\") as csvfile:\n",
    "    csvreader = csv.reader(csvfile, delimiter=\",\")\n",
    "    # Skip the header row\n",
    "    next(csvreader)\n",
    "\n",
    "    # Loop through rows in the CSV file\n",
    "    for row in csvreader:\n",
    "        # Extract date and profit/loss\n",
    "        date = row[0]\n",
    "        profit_loss = int(row[1])\n",
    "\n",
    "        # Calculate total number of months\n",
    "        total_months += 1\n",
    "\n",
    "        # Calculate net total amount of profit/loss\n",
    "        total_profit_loss += profit_loss\n",
    "\n",
    "        # Calculate change in profit/loss\n",
    "        if total_months > 1:\n",
    "            profit_loss_change = profit_loss - previous_profit_loss\n",
    "            profit_loss_changes.append(profit_loss_change)\n",
    "\n",
    "        # Update previous profit/loss for the next iteration\n",
    "        previous_profit_loss = profit_loss\n",
    "\n",
    "        # Determine greatest increase in profits\n",
    "        if profit_loss_change > greatest_increase[\"amount\"]:\n",
    "            greatest_increase[\"date\"] = date\n",
    "            greatest_increase[\"amount\"] = profit_loss_change\n",
    "\n",
    "        # Determine greatest decrease in profits\n",
    "        if profit_loss_change < greatest_decrease[\"amount\"]:\n",
    "            greatest_decrease[\"date\"] = date\n",
    "            greatest_decrease[\"amount\"] = profit_loss_change"
   ]
  },
  {
   "cell_type": "code",
   "execution_count": 7,
   "metadata": {},
   "outputs": [],
   "source": [
    "# Calculate the average of changes in profit/loss\n",
    "average_change = sum(profit_loss_changes) / len(profit_loss_changes)"
   ]
  },
  {
   "cell_type": "code",
   "execution_count": 9,
   "metadata": {},
   "outputs": [
    {
     "name": "stdout",
     "output_type": "stream",
     "text": [
      "Financial analysis has been saved to financial_analysis.txt.\n"
     ]
    }
   ],
   "source": [
    "# Write financial analysis to a text file\n",
    "output_file = \"financial_analysis.txt\"\n",
    "with open(output_file, \"w\") as txtfile:\n",
    "    txtfile.write(\"Financial Analysis\\n\")\n",
    "    txtfile.write(\"------------------\\n\")\n",
    "    txtfile.write(f\"Total Months: {total_months}\\n\")\n",
    "    txtfile.write(f\"Total: ${total_profit_loss}\\n\")\n",
    "    txtfile.write(f\"Average Change: ${average_change:.2f}\\n\")\n",
    "    txtfile.write(f\"Greatest Increase in Profits: {greatest_increase['date']} (${greatest_increase['amount']})\\n\")\n",
    "    txtfile.write(f\"Greatest Decrease in Profits: {greatest_decrease['date']} (${greatest_decrease['amount']})\\n\")\n",
    "\n",
    "print(\"Financial analysis has been saved to financial_analysis.txt.\")"
   ]
  }
 ],
 "metadata": {
  "kernelspec": {
   "display_name": "dev",
   "language": "python",
   "name": "python3"
  },
  "language_info": {
   "codemirror_mode": {
    "name": "ipython",
    "version": 3
   },
   "file_extension": ".py",
   "mimetype": "text/x-python",
   "name": "python",
   "nbconvert_exporter": "python",
   "pygments_lexer": "ipython3",
   "version": "3.10.12"
  }
 },
 "nbformat": 4,
 "nbformat_minor": 2
}
