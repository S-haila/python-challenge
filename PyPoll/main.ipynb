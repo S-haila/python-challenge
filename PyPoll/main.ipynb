{
 "cells": [
  {
   "cell_type": "code",
   "execution_count": 1,
   "metadata": {},
   "outputs": [],
   "source": [
    "#import dependencies\n",
    "import os\n",
    "import csv"
   ]
  },
  {
   "cell_type": "code",
   "execution_count": 2,
   "metadata": {},
   "outputs": [],
   "source": [
    "# Path to the CSV file\n",
    "file_path = r\"C:\\Users\\sohai\\OneDrive\\Desktop\\bootcamp_hw\\python-challenge\\PyPoll\\Resources\\election_data.csv\""
   ]
  },
  {
   "cell_type": "code",
   "execution_count": 3,
   "metadata": {},
   "outputs": [],
   "source": [
    "# Initialize variables\n",
    "total_votes = 0\n",
    "candidate_votes = {}\n",
    "candidates = []"
   ]
  },
  {
   "cell_type": "code",
   "execution_count": 4,
   "metadata": {},
   "outputs": [],
   "source": [
    "# Read the CSV file\n",
    "with open(file_path, newline=\"\") as csvfile:\n",
    "    csvreader = csv.reader(csvfile, delimiter=\",\")\n",
    "\n",
    "    # Skip the header row\n",
    "    next(csvreader)\n",
    "\n",
    "    # Loop through rows in the CSV file\n",
    "    for row in csvreader:\n",
    "        # Count total votes\n",
    "        total_votes += 1\n",
    "\n",
    "        # Extract candidate name\n",
    "        candidate_name = row[2]\n",
    "\n",
    "        # Add candidate to the list if not already present\n",
    "        if candidate_name not in candidates:\n",
    "            candidates.append(candidate_name)\n",
    "\n",
    "        # Count votes for each candidate\n",
    "        if candidate_name in candidate_votes:\n",
    "            candidate_votes[candidate_name] += 1\n",
    "        else:\n",
    "            candidate_votes[candidate_name] = 1"
   ]
  },
  {
   "cell_type": "code",
   "execution_count": 5,
   "metadata": {},
   "outputs": [],
   "source": [
    "# Calculate the percentage of votes each candidate won\n",
    "percentage_votes = {candidate: (votes / total_votes) * 100 for candidate, votes in candidate_votes.items()}"
   ]
  },
  {
   "cell_type": "code",
   "execution_count": 6,
   "metadata": {},
   "outputs": [],
   "source": [
    "# Find the winner of the election\n",
    "winner = max(candidate_votes, key=candidate_votes.get)"
   ]
  },
  {
   "cell_type": "code",
   "execution_count": 7,
   "metadata": {},
   "outputs": [
    {
     "name": "stdout",
     "output_type": "stream",
     "text": [
      "Election Results\n",
      "-------------------------\n",
      "Total Votes: 369711\n",
      "-------------------------\n",
      "Charles Casper Stockham: 23.049% (85213)\n",
      "Diana DeGette: 73.812% (272892)\n",
      "Raymon Anthony Doane: 3.139% (11606)\n",
      "-------------------------\n",
      "Winner: Diana DeGette\n",
      "-------------------------\n"
     ]
    }
   ],
   "source": [
    "# Print the election results\n",
    "print(\"Election Results\")\n",
    "print(\"-------------------------\")\n",
    "print(f\"Total Votes: {total_votes}\")\n",
    "print(\"-------------------------\")\n",
    "for candidate in candidates:\n",
    "    print(f\"{candidate}: {percentage_votes[candidate]:.3f}% ({candidate_votes[candidate]})\")\n",
    "print(\"-------------------------\")\n",
    "print(f\"Winner: {winner}\")\n",
    "print(\"-------------------------\")"
   ]
  },
  {
   "cell_type": "code",
   "execution_count": 8,
   "metadata": {},
   "outputs": [
    {
     "name": "stdout",
     "output_type": "stream",
     "text": [
      "Election results have been saved to election_results.txt.\n"
     ]
    }
   ],
   "source": [
    "# Write the election results to a text file\n",
    "output_file = \"election_results.txt\"\n",
    "with open(output_file, \"w\") as txtfile:\n",
    "    txtfile.write(\"Election Results\\n\")\n",
    "    txtfile.write(\"-------------------------\\n\")\n",
    "    txtfile.write(f\"Total Votes: {total_votes}\\n\")\n",
    "    txtfile.write(\"-------------------------\\n\")\n",
    "    for candidate in candidates:\n",
    "        txtfile.write(f\"{candidate}: {percentage_votes[candidate]:.3f}% ({candidate_votes[candidate]})\\n\")\n",
    "    txtfile.write(\"-------------------------\\n\")\n",
    "    txtfile.write(f\"Winner: {winner}\\n\")\n",
    "    txtfile.write(\"-------------------------\\n\")\n",
    "\n",
    "print(\"Election results have been saved to election_results.txt.\")"
   ]
  }
 ],
 "metadata": {
  "kernelspec": {
   "display_name": "dev",
   "language": "python",
   "name": "python3"
  },
  "language_info": {
   "codemirror_mode": {
    "name": "ipython",
    "version": 3
   },
   "file_extension": ".py",
   "mimetype": "text/x-python",
   "name": "python",
   "nbconvert_exporter": "python",
   "pygments_lexer": "ipython3",
   "version": "3.10.12"
  }
 },
 "nbformat": 4,
 "nbformat_minor": 2
}
